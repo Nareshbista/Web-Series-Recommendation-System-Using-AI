{
  "nbformat": 4,
  "nbformat_minor": 0,
  "metadata": {
    "colab": {
      "provenance": []
    },
    "kernelspec": {
      "name": "python3",
      "display_name": "Python 3"
    },
    "language_info": {
      "name": "python"
    }
  },
  "cells": [
    {
      "cell_type": "code",
      "source": [
        "import numpy as np\n",
        "import pandas as pd\n",
        "from sklearn.metrics.pairwise import cosine_similarity"
      ],
      "metadata": {
        "id": "jHwJSrzCfdGe"
      },
      "execution_count": 24,
      "outputs": []
    },
    {
      "cell_type": "code",
      "source": [
        "\n",
        "# Sample data: user ratings for web series\n",
        "data = {\n",
        "    'User': ['Naresh', 'Naresh', 'Naresh', 'Pavan', 'Pavan', 'Siddu', 'Siddu', 'Siddu', 'Karthik', 'Karthik'],\n",
        "    'webseries': ['Queen of tears', 'Squid Game', 'Money Heist', 'Queen of tears', 'Stranger Things', 'Squid Game', 'Money Heist', 'Stranger Things', 'Queen of tears', 'Money Heist'],\n",
        "    'Rating': [5, 3, 4, 4, 2, 5, 4, 1, 4, 5]\n",
        "}\n",
        "\n",
        "# Create DataFrame\n",
        "df = pd.DataFrame(data)\n",
        "\n",
        "def add_user_ratings(user, ratings):\n",
        "    \"\"\"\n",
        "    Add the new user's ratings to the DataFrame.\n",
        "    \"\"\"\n",
        "    global df\n",
        "    new_data = {'User': [user] * len(ratings), 'webseries': list(ratings.keys()), 'Rating': list(ratings.values())}\n",
        "    new_df = pd.DataFrame(new_data)\n",
        "    df = pd.concat([df, new_df], ignore_index=True)\n",
        "\n",
        "def recommend_webseries(user, num_recommendations=2):\n",
        "    # Pivot table to create user-item matrix\n",
        "    user_webseries_matrix = df.pivot_table(index='User', columns='webseries', values='Rating').fillna(0)\n",
        "\n",
        "    # Calculate cosine similarity between users\n",
        "    user_similarity = cosine_similarity(user_webseries_matrix)\n",
        "\n",
        "    # Create a DataFrame for user similarity\n",
        "    user_similarity_df = pd.DataFrame(user_similarity, index=user_webseries_matrix.index, columns=user_webseries_matrix.index)\n",
        "\n",
        "    if user not in user_similarity_df.index:\n",
        "        return \"User not found.\"\n",
        "\n",
        "    # Get the similarity scores for the specified user\n",
        "    user_similarities = user_similarity_df[user]\n",
        "\n",
        "    # Get the web series rated by the specified user\n",
        "    user_ratings = user_webseries_matrix.loc[user]\n",
        "\n",
        "    # Calculate weighted sum of ratings for each web series\n",
        "    weighted_sum = np.dot(user_similarity_df[user].values, user_webseries_matrix.fillna(0).values)\n",
        "\n",
        "    # Normalize by the sum of similarity scores\n",
        "    sum_of_similarities = user_similarity_df[user].sum()\n",
        "    weighted_average_ratings = weighted_sum / sum_of_similarities\n",
        "\n",
        "    # Create a DataFrame for weighted average ratings\n",
        "    weighted_ratings_df = pd.DataFrame(weighted_average_ratings, index=user_webseries_matrix.columns, columns=['Weighted_Rating'])\n",
        "\n",
        "    # Filter out web series already rated by the user\n",
        "    weighted_ratings_df = weighted_ratings_df.loc[~weighted_ratings_df.index.isin(user_ratings[user_ratings > 0].index)]\n",
        "\n",
        "    # Sort by weighted rating and get top N recommendations\n",
        "    recommendations = weighted_ratings_df.sort_values(by='Weighted_Rating', ascending=False).head(num_recommendations)\n",
        "\n",
        "    return recommendations.index.tolist()\n",
        "\n",
        "def get_user_input():\n",
        "    user = input(\"Enter your user ID: \")\n",
        "    print(\"Please enter your ratings for the following web series (if you haven't watched a web series, just press Enter):\")\n",
        "\n",
        "    webseries_list = ['Queen of tears', 'Squid Game', 'Money Heist', 'Stranger Things']\n",
        "    ratings = {}\n",
        "\n",
        "    for webseries in webseries_list:\n",
        "        rating = input(f\"Rating for {webseries} (0-5): \")\n",
        "        if rating:\n",
        "            ratings[webseries] = float(rating)\n",
        "\n",
        "    return user, ratings\n",
        "\n",
        "def chat():\n",
        "    print(\"Welcome to the Web Series Recommendation System Using AI!\")\n",
        "    user, ratings = get_user_input()\n",
        "    add_user_ratings(user, ratings)\n",
        "\n",
        "    recommended_webseries = recommend_webseries(user)\n",
        "    print(f\"Recommended web series for {user}: {recommended_webseries}\")\n",
        "\n",
        "# Run the chat function\n",
        "chat()\n"
      ],
      "metadata": {
        "colab": {
          "base_uri": "https://localhost:8080/"
        },
        "id": "LA7d1oZLfdLB",
        "outputId": "4e4936f7-d9e1-40c2-9754-21f607e65276"
      },
      "execution_count": 26,
      "outputs": [
        {
          "output_type": "stream",
          "name": "stdout",
          "text": [
            "Welcome to the Web Series Recommendation System Using AI!\n",
            "Enter your user ID: Karthik\n",
            "Please enter your ratings for the following web series (if you haven't watched a web series, just press Enter):\n",
            "Rating for Queen of tears (0-5): 5\n",
            "Rating for Squid Game (0-5): \n",
            "Rating for Money Heist (0-5): 2\n",
            "Rating for Stranger Things (0-5): 4\n",
            "Recommended web series for Karthik: ['Squid Game']\n"
          ]
        }
      ]
    },
    {
      "cell_type": "code",
      "source": [],
      "metadata": {
        "id": "gclu6GQXfdNV"
      },
      "execution_count": null,
      "outputs": []
    },
    {
      "cell_type": "code",
      "source": [],
      "metadata": {
        "id": "4fIqwfuxfdPz"
      },
      "execution_count": null,
      "outputs": []
    },
    {
      "cell_type": "code",
      "source": [],
      "metadata": {
        "id": "C-OUerAFfdSJ"
      },
      "execution_count": null,
      "outputs": []
    },
    {
      "cell_type": "code",
      "source": [],
      "metadata": {
        "id": "bQBl58OLfdUw"
      },
      "execution_count": null,
      "outputs": []
    },
    {
      "cell_type": "code",
      "source": [],
      "metadata": {
        "id": "sp23K99CfdXP"
      },
      "execution_count": null,
      "outputs": []
    },
    {
      "cell_type": "code",
      "source": [],
      "metadata": {
        "id": "aJoSW5zNfdaO"
      },
      "execution_count": null,
      "outputs": []
    },
    {
      "cell_type": "code",
      "source": [],
      "metadata": {
        "id": "CBdSW9fTfddv"
      },
      "execution_count": null,
      "outputs": []
    }
  ]
}